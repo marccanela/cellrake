{
 "cells": [
  {
   "cell_type": "markdown",
   "metadata": {},
   "source": [
    "# CellRake: Complete Cell Analysis Pipeline Tutorial\n",
    "\n",
    "**CellRake** is a Python package for automated cell detection and analysis in fluorescence microscopy images. This notebook demonstrates all features with practical examples.\n",
    "\n",
    "## What CellRake Does:\n",
    "1. **Segments** fluorescence images to identify potential cells (named blobs)\n",
    "2. **Trains** machine learning models using semi-supervised learning to identify cells among blobs\n",
    "3. **Analyzes** new images to count and characterize cells based on previously trained models\n",
    "4. **Exports** results and visualizations\n",
    "\n",
    "## Prerequisites:\n",
    "- Install CellRake: `pip install cellrake`\n",
    "- Have some histological TIFF images ready for analysis\n",
    "- Run this notebook in a Python environment with CellRake installed"
   ]
  },
  {
   "cell_type": "markdown",
   "metadata": {},
   "source": [
    "## 1. Setup and Import"
   ]
  },
  {
   "cell_type": "code",
   "execution_count": null,
   "metadata": {},
   "outputs": [],
   "source": [
    "from pathlib import Path\n",
    "from cellrake.main import CellRake\n",
    "\n",
    "# Create sample directories (you'll replace these with your actual paths)\n",
    "image_dir = Path(\"./sample_images\")\n",
    "results_dir = Path(\"./cellrake_results\")"
   ]
  },
  {
   "cell_type": "markdown",
   "metadata": {},
   "source": [
    "## 2. Initialize CellRake\n",
    "\n",
    "The CellRake API requires `project_dir` as the first parameter, making it clear where results will be saved. You can define the folder where you store the TIFF images when setting up the class, or after you did it by calling the method `set_image_folder`:"
   ]
  },
  {
   "cell_type": "code",
   "execution_count": null,
   "metadata": {},
   "outputs": [],
   "source": [
    "# Option 1: Initialize the class with project_dir and image_folder\n",
    "sample_project = CellRake(\n",
    "    project_dir=results_dir,\n",
    "    image_folder=image_dir\n",
    ")\n",
    "\n",
    "# Option 2: Initialize the class with only project_dir and add image folder later\n",
    "sample_project = CellRake(project_dir=results_dir)\n",
    "sample_project.set_image_folder(image_dir)"
   ]
  },
  {
   "cell_type": "markdown",
   "metadata": {},
   "source": [
    "In case you already used CellRake before and have a file of segmented data, you may include it with the method `load_segmentation`. Just copy the file into the `project_dir` and specify the name of the file in the method:"
   ]
  },
  {
   "cell_type": "code",
   "execution_count": null,
   "metadata": {},
   "outputs": [],
   "source": [
    "# Example: previous_segmentation.pkl stored in results_dir\n",
    "sample_project.load_segmentation(previous_segmentation)"
   ]
  },
  {
   "cell_type": "markdown",
   "metadata": {},
   "source": [
    "## 3. Image Segmentation\n",
    "\n",
    "First, let's explore the segmentation capabilities:"
   ]
  },
  {
   "cell_type": "code",
   "execution_count": null,
   "metadata": {},
   "outputs": [],
   "source": [
    "# Basic segmentation with default parameters\n",
    "segmentation_result = sample_project.segment_images(threshold_rel=0.1)\n",
    "\n",
    "# Check results\n",
    "print(f\"Found {len(segmentation_result['layers'])} images\")\n",
    "print(f\"Total blobs across all images: {sum(len(rois) for rois in segmentation_result['rois'].values())}\")\n",
    "\n",
    "# Print the current status of the CellRake object\n",
    "print(sample_project)"
   ]
  },
  {
   "cell_type": "code",
   "execution_count": null,
   "metadata": {},
   "outputs": [],
   "source": [
    "# Advanced segmentation with custom parameters\n",
    "segmentation_params = {\n",
    "    \"threshold_rel\": 0.15,      # More sensitive detection\n",
    "    \"max_sigma\": 20,            # Larger blob detection range\n",
    "    \"num_sigma\": 12,            # More steps in detection\n",
    "    \"min_area\": 50,             # Smaller minimum cell size\n",
    "    \"max_area\": 2500,           # Larger maximum cell size\n",
    "    \"hole_fill_ratio\": 0.7,     # Fill smaller holes\n",
    "}\n",
    "\n",
    "# Clear previous segmentation to try new parameters\n",
    "sample_project.segmented_data = None\n",
    "\n",
    "# Try advanced segmentation\n",
    "advanced_segmentation = sample_project.segment_images(**segmentation_params)\n",
    "\n",
    "# Check new results\n",
    "print(f\"Found {len(advanced_segmentation['layers'])} images\")\n",
    "print(f\"Total blobs across all images: {sum(len(rois) for rois in advanced_segmentation['rois'].values())}\")"
   ]
  },
  {
   "cell_type": "markdown",
   "metadata": {},
   "source": [
    "## 4. Model Training\n",
    "\n",
    "CellRake uses semi-supervised learning to train cell classifiers. You'll manually label a small number of blobs, and the algorithm will propagate labels to similar blobs."
   ]
  },
  {
   "cell_type": "code",
   "execution_count": null,
   "metadata": {},
   "outputs": [],
   "source": [
    "# Basic training with default parameters\n",
    "# It will perform segmentation if not already done\n",
    "sample_project.train()\n",
    "\n",
    "# Check the metrics of the training\n",
    "print(sample_project.metrics)\n",
    "\n",
    "# Check the current status of the CellRake object\n",
    "print(sample_project)"
   ]
  },
  {
   "cell_type": "markdown",
   "metadata": {},
   "source": [
    "### 4.1 Different Model Types and Parameters\n",
    "\n",
    "CellRake supports multiple classifiers and extensive parameter customization."
   ]
  },
  {
   "cell_type": "code",
   "execution_count": null,
   "metadata": {},
   "outputs": [],
   "source": [
    "# Training with a different model and modified parameters\n",
    "training_params = {\n",
    "    \"model_type\": \"svm\", # SVM model\n",
    "    \"samples\": 15, # Draw 15 samples from each cluster for manual labeling\n",
    "    \"entropy_threshold\": 0.01, # Confidence threshold for pseudo-label selection\n",
    "    \"default_train_ratio\": 0.75 # Balance train/test split\n",
    "}\n",
    "\n",
    "\n",
    "# Train the model with custom parameters\n",
    "sample_project.train(**training_params)\n",
    "\n",
    "# Check updated training results\n",
    "print(sample_project.metrics)"
   ]
  },
  {
   "cell_type": "markdown",
   "metadata": {},
   "source": [
    "## 5. Saving and Loading Models\n",
    "\n",
    "CellRake makes it easy to save your work and reuse trained models."
   ]
  },
  {
   "cell_type": "code",
   "execution_count": null,
   "metadata": {},
   "outputs": [],
   "source": [
    "# Save your trained model model (specify a name)\n",
    "sample_project.save_model(\"my_cell_classifier\")\n",
    "\n",
    "# Save segmentation\n",
    "sample_project.save_segmentation(\"my_segmentation\")\n",
    "\n",
    "# Load model\n",
    "sample_project.load_model(\"my_cell_classifier\")\n",
    "\n",
    "# Load segmentation\n",
    "sample_project.load_segmentation(\"my_segmentation\")"
   ]
  },
  {
   "cell_type": "markdown",
   "metadata": {},
   "source": [
    "## 6. Analyze other Experiments"
   ]
  },
  {
   "cell_type": "code",
   "execution_count": null,
   "metadata": {},
   "outputs": [],
   "source": [
    "# Basic analysis with default settings\n",
    "analysis_results = sample_project.analyze()"
   ]
  }
 ],
 "metadata": {
  "kernelspec": {
   "display_name": "cellrake",
   "language": "python",
   "name": "python3"
  },
  "language_info": {
   "codemirror_mode": {
    "name": "ipython",
    "version": 3
   },
   "file_extension": ".py",
   "mimetype": "text/x-python",
   "name": "python",
   "nbconvert_exporter": "python",
   "pygments_lexer": "ipython3",
   "version": "3.10.18"
  }
 },
 "nbformat": 4,
 "nbformat_minor": 2
}
