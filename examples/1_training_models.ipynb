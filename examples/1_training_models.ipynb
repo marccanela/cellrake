{
 "cells": [
  {
   "cell_type": "markdown",
   "metadata": {},
   "source": [
    "# Training models\n",
    "\n",
    "When using **CellRake** to identify the cells on a fluorescence image, it is essential to train a model to determine which segmentations correspond to cells and which do not. To achieve this objective, we will train a machine-learning classifier using a set of input images.\n",
    "\n",
    "We will start by importing the necessary packages for our analysis, including the functions from `cellrake`. Ensure that:\n",
    "\n",
    "- You have correctly installed `cellrake` in your Conda environment following the instructions in [README.md](../README.md).\n",
    "- You are running this notebook with the `cellrake` environment (top right corner of the notebook if you are using VSCode)."
   ]
  },
  {
   "cell_type": "code",
   "execution_count": 2,
   "metadata": {},
   "outputs": [
    {
     "ename": "ModuleNotFoundError",
     "evalue": "No module named 'cellrake'",
     "output_type": "error",
     "traceback": [
      "\u001b[0;31m---------------------------------------------------------------------------\u001b[0m",
      "\u001b[0;31mModuleNotFoundError\u001b[0m                       Traceback (most recent call last)",
      "Cell \u001b[0;32mIn[2], line 1\u001b[0m\n\u001b[0;32m----> 1\u001b[0m \u001b[38;5;28;01mfrom\u001b[39;00m\u001b[38;5;250m \u001b[39m\u001b[38;5;21;01mcellrake\u001b[39;00m\u001b[38;5;21;01m.\u001b[39;00m\u001b[38;5;21;01mmain\u001b[39;00m\u001b[38;5;250m \u001b[39m\u001b[38;5;28;01mimport\u001b[39;00m CellRake\n\u001b[1;32m      2\u001b[0m \u001b[38;5;28;01mfrom\u001b[39;00m\u001b[38;5;250m \u001b[39m\u001b[38;5;21;01mpathlib\u001b[39;00m\u001b[38;5;250m \u001b[39m\u001b[38;5;28;01mimport\u001b[39;00m Path\n",
      "\u001b[0;31mModuleNotFoundError\u001b[0m: No module named 'cellrake'"
     ]
    }
   ],
   "source": [
    "from cellrake.main import CellRake\n",
    "from pathlib import Path"
   ]
  },
  {
   "cell_type": "markdown",
   "metadata": {},
   "source": [
    "When running the function `train`, the following pipeline will start running:\n",
    "\n",
    "1) The algorithm will segment the images to extract all the possible cells, which correspond to bright regions on the image.\n",
    "2) You will be prompted with the segmentations, and you'll have to label them as positive or negative. For each of them, you must type `1` if it is positive or `0` if not. If you run the code in VSCode, the user prompt will appear in the upper part of the screen (close to the VSCode search bar).\n",
    "\n",
    "CellRake's training algorithm is an **active learning** strategy known as [**uncertainty sampling**](https://towardsdatascience.com/active-learning-overview-strategies-and-uncertainty-measures-521565e0b0b), in which you'll progressively label more data until there is no more improvement in the model. This procedure ensures that the model will have an optical performance while labelling the minimum amount of data.\n",
    "\n",
    "By default, the `train` function uses a pipeline composed of a standardization function, a PCA, and a [**support vector machine**](https://scikit-learn.org/stable/modules/generated/sklearn.svm.SVC.html) (`svm`) optimized through a random search. Other architectures are also available based on [**logistic regressions**](https://scikit-learn.org/stable/modules/generated/sklearn.linear_model.LogisticRegression.html) (`logreg`) and [**random forests**](https://scikit-learn.org/stable/modules/generated/sklearn.ensemble.RandomForestClassifier.html) (`rf`). For more information, type `help(train)`, `help(train_svm)`, `help(train_logreg)`, and `help(train_rf)`.\n",
    "\n",
    "You will have to select a value for the `threshold_rel` corresponding to the minimum intensity of peaks of [Laplacian-of-Gaussian (LoG)](https://scikit-image.org/docs/stable/api/skimage.feature.html#skimage.feature.blob_log). I'd recomend a value between 0.05 and 0.1."
   ]
  },
  {
   "cell_type": "code",
   "execution_count": null,
   "metadata": {},
   "outputs": [],
   "source": [
    "tdt_folder = Path(\"./sample_data/tdt\")\n",
    "model = train(tdt_folder, threshold_rel=0.1, model_type='svm')"
   ]
  },
  {
   "cell_type": "markdown",
   "metadata": {},
   "source": [
    "After the training is completed, the data and best model obtained after the random search will be automatically saved in a newly created folder. The function will also generate a plot with the evolution of the [**F1 score**](https://scikit-learn.org/stable/modules/generated/sklearn.metrics.f1_score.html) and the [**ROC-AUC**](https://scikit-learn.org/stable/modules/generated/sklearn.metrics.roc_auc_score.html) during the training. For more information, I highly recommend you to take a look at the tutorials and guides from [**scikit-learn**](https://scikit-learn.org/stable/)."
   ]
  }
 ],
 "metadata": {
  "kernelspec": {
   "display_name": "cellrake",
   "language": "python",
   "name": "python3"
  },
  "language_info": {
   "codemirror_mode": {
    "name": "ipython",
    "version": 3
   },
   "file_extension": ".py",
   "mimetype": "text/x-python",
   "name": "python",
   "nbconvert_exporter": "python",
   "pygments_lexer": "ipython3",
   "version": "3.10.18"
  }
 },
 "nbformat": 4,
 "nbformat_minor": 2
}
